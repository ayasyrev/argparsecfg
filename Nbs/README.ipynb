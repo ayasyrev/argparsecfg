{
 "cells": [
  {
   "attachments": {},
   "cell_type": "markdown",
   "metadata": {},
   "source": [
    "# ArgparseCfg"
   ]
  },
  {
   "attachments": {},
   "cell_type": "markdown",
   "metadata": {},
   "source": [
    "Config for argparse."
   ]
  },
  {
   "attachments": {},
   "cell_type": "markdown",
   "metadata": {},
   "source": [
    "WIP  \n",
    "\n",
    "Simple wrapper for python argparse.  \n",
    "Use dataclass for you app config.  \n",
    "It gives you typed config instead of default Namespace from argparse.\n",
    "\n",
    "You can see examples at `examples` folder - Same examples as ad python docs and tutorial for argparse.  \n"
   ]
  },
  {
   "cell_type": "code",
   "execution_count": null,
   "metadata": {},
   "outputs": [],
   "source": []
  }
 ],
 "metadata": {
  "language_info": {
   "name": "python"
  }
 },
 "nbformat": 4,
 "nbformat_minor": 2
}
